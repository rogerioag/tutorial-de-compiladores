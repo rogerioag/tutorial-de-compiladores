{
 "cells": [
  {
   "cell_type": "markdown",
   "metadata": {},
   "source": [
    "# **Implementação de Compiladores**\n",
    "## Geração de Código"
   ]
  },
  {
   "cell_type": "code",
   "execution_count": 1,
   "metadata": {},
   "outputs": [],
   "source": [
    "from llvmlite import ir\n",
    "from llvmlite import binding as llvm"
   ]
  },
  {
   "cell_type": "code",
   "execution_count": 2,
   "metadata": {},
   "outputs": [
    {
     "data": {
      "text/plain": [
       "'\\nEste módulo contém uma função main, declarações de variáveis, operações e atribuições\\nSerá gerado um código em LLVM como este em C:\\nint g;\\nfloat h;\\nint main(){\\n  int a = 1;\\n  float b = 1.0;\\n  \\n  g = 10;\\n  h = 10.0;\\n  a = a + 10;\\n  b = b + h;\\n  \\n  return 0;\\n}\\n'"
      ]
     },
     "execution_count": 2,
     "metadata": {},
     "output_type": "execute_result"
    }
   ],
   "source": [
    "'''\n",
    "Este módulo contém uma função main, declarações de variáveis, operações e atribuições\n",
    "Será gerado um código em LLVM como este em C:\n",
    "int g;\n",
    "float h;\n",
    "int main(){\n",
    "  int a = 1;\n",
    "  float b = 1.0;\n",
    "  \n",
    "  g = 10;\n",
    "  h = 10.0;\n",
    "  a = a + 10;\n",
    "  b = b + h;\n",
    "  \n",
    "  return 0;\n",
    "}\n",
    "'''"
   ]
  },
  {
   "cell_type": "code",
   "execution_count": 3,
   "metadata": {},
   "outputs": [],
   "source": [
    "# Cria o módulo.\n",
    "module = ir.Module('meu_modulo.bc')"
   ]
  },
  {
   "cell_type": "code",
   "execution_count": 4,
   "metadata": {},
   "outputs": [
    {
     "data": {
      "text/plain": [
       "<ir.Ret '.14' of type 'void', opname 'ret', operands [<ir.LoadInstr '.13' of type 'i32', opname 'load', operands [<ir.AllocaInstr 'retorno' of type 'i32*', opname 'alloca', operands ()>]>]>"
      ]
     },
     "execution_count": 4,
     "metadata": {},
     "output_type": "execute_result"
    }
   ],
   "source": [
    "# Variável inteira global g\n",
    "g = ir.GlobalVariable(module, ir.IntType(32),\"g\")\n",
    "# Inicializa a variavel g\n",
    "g.initializer = ir.Constant(ir.IntType(32), 0)\n",
    "# Linkage = common\n",
    "g.linkage = \"common\"\n",
    "# Define o alinhamento em 4\n",
    "g.align = 4\n",
    "\n",
    "# Variável float global h\n",
    "h = ir.GlobalVariable(module, ir.FloatType(),\"h\")\n",
    "# Inicializa a variavel h\n",
    "h.initializer =  ir.Constant(ir.FloatType(), 0.0)\n",
    "# Linkage = common\n",
    "h.linkage = \"common\"\n",
    "# Define o alinhamento em 4\n",
    "h.align = 4\n",
    "\n",
    "# Define o retorno da função main\n",
    "Zero32 = ir.Constant(ir.IntType(32), 0)\n",
    "# Cria função main\n",
    "t_func_main = ir.FunctionType(ir.IntType(32), ())\n",
    "# Declara função main\n",
    "main = ir.Function(module, t_func_main, name='main')\n",
    "\n",
    "# Declara o bloco de entrada\n",
    "entryBlock = main.append_basic_block('entry')\n",
    "endBasicBlock = main.append_basic_block('exit')\n",
    "\n",
    "# Adiciona o bloco de entrada\n",
    "builder = ir.IRBuilder(entryBlock)\n",
    "\n",
    "# Cria o valor de retorno e inicializa com zero\n",
    "returnVal = builder.alloca(ir.IntType(32), name='retorno')\n",
    "builder.store(Zero32, returnVal)\n",
    "\n",
    "# int a = 1;\n",
    "# float b = 1.0\n",
    "\n",
    "# Variável inteira 'a'\n",
    "# Aloca na memória variável a do tipo inteiro com nome 'a'\n",
    "a = builder.alloca(ir.IntType(32), name=\"a\")\n",
    "# Define o alinhamento\n",
    "a.align = 4\n",
    "# Cria uma constante pra armazenar o numero 1\n",
    "num1 = ir.Constant(ir.IntType(32),1)\n",
    "# Armazena o 1 na variave 'a'\n",
    "builder.store(num1, a)\n",
    "\n",
    "# Variavel float b\n",
    "# Aloca na memoria \n",
    "b = builder.alloca(ir.FloatType(), name=\"b\")\n",
    "# Define o alinhamento\n",
    "b.align = 4\n",
    "# Cria uma constante pra armazenar o numero 1\n",
    "num1Float = ir.Constant(ir.FloatType(), 1.0)\n",
    "# Armazena o 1.0 na variavel 'b'\n",
    "builder.store(num1Float, b)\n",
    "\n",
    "# g = 10\n",
    "# Outra maneira de fazer o store (sem precisar criar constante pra armazenar numero)\n",
    "builder.store( ir.Constant(ir.IntType(32), 10) , g )\n",
    "\n",
    "# h = 10.0\n",
    "builder.store( ir.Constant(ir.FloatType(), 10.0) , h )\n",
    "\n",
    "# a = a + 10\n",
    "a_temp = builder.load(a, \"\")\n",
    "num10 = ir.Constant(ir.IntType(32), 10)\n",
    "temp = builder.add(a_temp, num10, name='temp', flags=())\n",
    "# Armazena o temp (a + 10) no a\n",
    "builder.store(temp, a)\n",
    "\n",
    "# b = b + h\n",
    "b_temp = builder.load(b, \"\")\n",
    "h_temp = builder.load(h,\"\")\n",
    "temp2 = builder.fadd( b_temp , h_temp , name='temp2', flags=())\n",
    "# Armazena temp2 em b\n",
    "builder.store(temp2, b)\n",
    "\n",
    "# Cria um salto para o bloco de saída\n",
    "builder.branch(endBasicBlock)\n",
    "\n",
    "# Adiciona o bloco de saida\n",
    "builder.position_at_end(endBasicBlock)\n",
    "\n",
    "# return 0\n",
    "# Cria o return\n",
    "returnVal_temp = builder.load(returnVal, name='', align=4)\n",
    "builder.ret(returnVal_temp)"
   ]
  },
  {
   "cell_type": "code",
   "execution_count": 5,
   "metadata": {},
   "outputs": [
    {
     "name": "stdout",
     "output_type": "stream",
     "text": [
      "; ModuleID = \"meu_modulo.bc\"\n",
      "target triple = \"unknown-unknown-unknown\"\n",
      "target datalayout = \"\"\n",
      "\n",
      "@\"g\" = common global i32 0, align 4\n",
      "@\"h\" = common global float              0x0, align 4\n",
      "define i32 @\"main\"() \n",
      "{\n",
      "entry:\n",
      "  %\"retorno\" = alloca i32\n",
      "  store i32 0, i32* %\"retorno\"\n",
      "  %\"a\" = alloca i32, align 4\n",
      "  store i32 1, i32* %\"a\"\n",
      "  %\"b\" = alloca float, align 4\n",
      "  store float 0x3ff0000000000000, float* %\"b\"\n",
      "  store i32 10, i32* @\"g\"\n",
      "  store float 0x4024000000000000, float* @\"h\"\n",
      "  %\".7\" = load i32, i32* %\"a\"\n",
      "  %\"temp\" = add i32 %\".7\", 10\n",
      "  store i32 %\"temp\", i32* %\"a\"\n",
      "  %\".9\" = load float, float* %\"b\"\n",
      "  %\".10\" = load float, float* @\"h\"\n",
      "  %\"temp2\" = fadd float %\".9\", %\".10\"\n",
      "  store float %\"temp2\", float* %\"b\"\n",
      "  br label %\"exit\"\n",
      "exit:\n",
      "  %\".13\" = load i32, i32* %\"retorno\", align 4\n",
      "  ret i32 %\".13\"\n",
      "}\n",
      "\n"
     ]
    }
   ],
   "source": [
    "arquivo = open('vars.ll', 'w')\n",
    "arquivo.write(str(module))\n",
    "arquivo.close()\n",
    "print(module)"
   ]
  },
  {
   "cell_type": "code",
   "execution_count": 8,
   "metadata": {},
   "outputs": [
    {
     "ename": "NameError",
     "evalue": "name 'llvm' is not defined",
     "output_type": "error",
     "traceback": [
      "\u001b[0;31m---------------------------------------------------------------------------\u001b[0m",
      "\u001b[0;31mNameError\u001b[0m                                 Traceback (most recent call last)",
      "\u001b[0;32m<ipython-input-8-334a44f1323d>\u001b[0m in \u001b[0;36m<module>\u001b[0;34m\u001b[0m\n\u001b[0;32m----> 1\u001b[0;31m \u001b[0mdot\u001b[0m \u001b[0;34m=\u001b[0m \u001b[0mllvm\u001b[0m\u001b[0;34m.\u001b[0m\u001b[0mget_function_cfg\u001b[0m\u001b[0;34m(\u001b[0m\u001b[0mmodule\u001b[0m\u001b[0;34m)\u001b[0m\u001b[0;34m\u001b[0m\u001b[0;34m\u001b[0m\u001b[0m\n\u001b[0m\u001b[1;32m      2\u001b[0m \u001b[0mllvm\u001b[0m\u001b[0;34m.\u001b[0m\u001b[0mview_dot_graph\u001b[0m\u001b[0;34m(\u001b[0m\u001b[0mdot\u001b[0m\u001b[0;34m)\u001b[0m\u001b[0;34m\u001b[0m\u001b[0;34m\u001b[0m\u001b[0m\n",
      "\u001b[0;31mNameError\u001b[0m: name 'llvm' is not defined"
     ]
    }
   ],
   "source": [
    "dot = llvm.get_function_cfg(module)\n",
    "llvm.view_dot_graph(dot)"
   ]
  },
  {
   "cell_type": "code",
   "execution_count": null,
   "metadata": {},
   "outputs": [],
   "source": []
  }
 ],
 "metadata": {
  "kernelspec": {
   "display_name": "Python 3",
   "language": "python",
   "name": "python3"
  },
  "language_info": {
   "codemirror_mode": {
    "name": "ipython",
    "version": 3
   },
   "file_extension": ".py",
   "mimetype": "text/x-python",
   "name": "python",
   "nbconvert_exporter": "python",
   "pygments_lexer": "ipython3",
   "version": "3.7.6"
  }
 },
 "nbformat": 4,
 "nbformat_minor": 4
}
