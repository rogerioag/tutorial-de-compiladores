{
 "cells": [
  {
   "cell_type": "markdown",
   "metadata": {},
   "source": [
    "# **Implementação de Compiladores**\n",
    "## Análise Semântica"
   ]
  },
  {
   "cell_type": "code",
   "execution_count": null,
   "metadata": {},
   "outputs": [],
   "source": []
  },
  {
   "cell_type": "code",
   "execution_count": 1,
   "metadata": {},
   "outputs": [],
   "source": [
    "import ply.lex as lex"
   ]
  },
  {
   "cell_type": "code",
   "execution_count": 2,
   "metadata": {},
   "outputs": [],
   "source": [
    "# List of token names.   This is always required\n",
    "tokens = (\n",
    "    'NUMBER',\n",
    "    'PLUS',\n",
    "    'MINUS',\n",
    "    'TIMES',\n",
    "    'DIVIDE',\n",
    "    'LPAREN',\n",
    "    'RPAREN',\n",
    ")\n"
   ]
  },
  {
   "cell_type": "code",
   "execution_count": 3,
   "metadata": {},
   "outputs": [],
   "source": [
    "# Regular expression rules for simple tokens\n",
    "t_PLUS    = r'\\+'\n",
    "t_MINUS   = r'-'\n",
    "t_TIMES   = r'\\*'\n",
    "t_DIVIDE  = r'/'\n",
    "t_LPAREN  = r'\\('\n",
    "t_RPAREN  = r'\\)'"
   ]
  },
  {
   "cell_type": "code",
   "execution_count": 4,
   "metadata": {},
   "outputs": [],
   "source": [
    "# A regular expression rule with some action code\n",
    "def t_NUMBER(t):\n",
    "    r'\\d+'\n",
    "    t.value = int(t.value)    \n",
    "    return t\n",
    " \n",
    "# Define a rule so we can track line numbers\n",
    "def t_newline(t):\n",
    "    r'\\n+'\n",
    "    t.lexer.lineno += len(t.value)\n",
    " \n",
    "# A string containing ignored characters (spaces and tabs)\n",
    "t_ignore  = ' \\t'\n",
    " \n",
    "# Error handling rule\n",
    "def t_error(t):\n",
    "    print(\"Illegal character '%s'\" % t.value[0])\n",
    "    t.lexer.skip(1)\n",
    " \n",
    "# Build the lexer\n",
    "__file__ = \"compiladores.ipynb\"\n",
    "lexer = lex.lex()"
   ]
  },
  {
   "cell_type": "code",
   "execution_count": 5,
   "metadata": {},
   "outputs": [],
   "source": [
    "data = '''\n",
    " 3 + 4 * 10\n",
    "   + -20 *2\n",
    " '''"
   ]
  },
  {
   "cell_type": "code",
   "execution_count": 6,
   "metadata": {},
   "outputs": [],
   "source": [
    "# Give the lexer some input\n",
    "lexer.input(data)"
   ]
  },
  {
   "cell_type": "code",
   "execution_count": 7,
   "metadata": {},
   "outputs": [
    {
     "name": "stdout",
     "output_type": "stream",
     "text": [
      "NUMBER 3 2 2\n",
      "PLUS + 2 4\n",
      "NUMBER 4 2 6\n",
      "TIMES * 2 8\n",
      "NUMBER 10 2 10\n",
      "PLUS + 3 16\n",
      "MINUS - 3 18\n",
      "NUMBER 20 3 19\n",
      "TIMES * 3 22\n",
      "NUMBER 2 3 23\n"
     ]
    }
   ],
   "source": [
    "# Tokenize\n",
    "while True:\n",
    "    tok = lexer.token()\n",
    "    if not tok: \n",
    "        break      # No more input\n",
    "    print(tok.type, tok.value, tok.lineno, tok.lexpos)"
   ]
  },
  {
   "cell_type": "code",
   "execution_count": null,
   "metadata": {},
   "outputs": [],
   "source": []
  }
 ],
 "metadata": {
  "kernelspec": {
   "display_name": "Python 3",
   "language": "python",
   "name": "python3"
  },
  "language_info": {
   "codemirror_mode": {
    "name": "ipython",
    "version": 3
   },
   "file_extension": ".py",
   "mimetype": "text/x-python",
   "name": "python",
   "nbconvert_exporter": "python",
   "pygments_lexer": "ipython3",
   "version": "3.7.6"
  }
 },
 "nbformat": 4,
 "nbformat_minor": 4
}
