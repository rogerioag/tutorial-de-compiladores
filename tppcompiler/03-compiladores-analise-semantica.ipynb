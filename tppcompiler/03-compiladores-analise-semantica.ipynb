{
  "nbformat": 4,
  "nbformat_minor": 0,
  "metadata": {
    "kernelspec": {
      "display_name": "Python 3",
      "language": "python",
      "name": "python3"
    },
    "language_info": {
      "codemirror_mode": {
        "name": "ipython",
        "version": 3
      },
      "file_extension": ".py",
      "mimetype": "text/x-python",
      "name": "python",
      "nbconvert_exporter": "python",
      "pygments_lexer": "ipython3",
      "version": "3.7.6"
    },
    "colab": {
      "name": "03-compiladores-analise-semantica.ipynb",
      "provenance": [],
      "include_colab_link": true
    }
  },
  "cells": [
    {
      "cell_type": "markdown",
      "metadata": {
        "id": "view-in-github",
        "colab_type": "text"
      },
      "source": [
        "<a href=\"https://colab.research.google.com/github/rogerioag/tutorial-de-compiladores/blob/master/tppcompiler/03-compiladores-analise-semantica.ipynb\" target=\"_parent\"><img src=\"https://colab.research.google.com/assets/colab-badge.svg\" alt=\"Open In Colab\"/></a>"
      ]
    },
    {
      "cell_type": "markdown",
      "metadata": {
        "id": "8lFVDurFGUwo"
      },
      "source": [
        "# **Implementação de Compiladores**\n",
        "## Análise Semântica"
      ]
    },
    {
      "cell_type": "code",
      "metadata": {
        "id": "P30_qlzTGUws",
        "outputId": "5756b110-356c-465a-b77e-833ebaaa3f9f",
        "colab": {
          "base_uri": "https://localhost:8080/"
        }
      },
      "source": [
        "!pip install ply\n",
        "!pip install anytree"
      ],
      "execution_count": 1,
      "outputs": [
        {
          "output_type": "stream",
          "text": [
            "Collecting ply\n",
            "\u001b[?25l  Downloading https://files.pythonhosted.org/packages/a3/58/35da89ee790598a0700ea49b2a66594140f44dec458c07e8e3d4979137fc/ply-3.11-py2.py3-none-any.whl (49kB)\n",
            "\r\u001b[K     |██████▋                         | 10kB 16.3MB/s eta 0:00:01\r\u001b[K     |█████████████▏                  | 20kB 1.6MB/s eta 0:00:01\r\u001b[K     |███████████████████▉            | 30kB 2.0MB/s eta 0:00:01\r\u001b[K     |██████████████████████████▍     | 40kB 2.2MB/s eta 0:00:01\r\u001b[K     |████████████████████████████████| 51kB 1.5MB/s \n",
            "\u001b[?25hInstalling collected packages: ply\n",
            "Successfully installed ply-3.11\n",
            "Collecting anytree\n",
            "\u001b[?25l  Downloading https://files.pythonhosted.org/packages/a8/65/be23d8c3ecd68d40541d49812cd94ed0f3ee37eb88669ca15df0e43daed1/anytree-2.8.0-py2.py3-none-any.whl (41kB)\n",
            "\u001b[K     |████████████████████████████████| 51kB 1.6MB/s \n",
            "\u001b[?25hRequirement already satisfied: six>=1.9.0 in /usr/local/lib/python3.6/dist-packages (from anytree) (1.15.0)\n",
            "Installing collected packages: anytree\n",
            "Successfully installed anytree-2.8.0\n"
          ],
          "name": "stdout"
        }
      ]
    },
    {
      "cell_type": "code",
      "metadata": {
        "id": "Z51oU0j3GUw9"
      },
      "source": [
        ""
      ],
      "execution_count": null,
      "outputs": []
    },
    {
      "cell_type": "code",
      "metadata": {
        "id": "dIpKsKjdGUxT"
      },
      "source": [
        "# List of token names.   This is always required\n",
        "tokens = (\n",
        "    'NUMBER',\n",
        "    'PLUS',\n",
        "    'MINUS',\n",
        "    'TIMES',\n",
        "    'DIVIDE',\n",
        "    'LPAREN',\n",
        "    'RPAREN',\n",
        ")\n"
      ],
      "execution_count": null,
      "outputs": []
    },
    {
      "cell_type": "code",
      "metadata": {
        "id": "lPRJ0CSCGUxc"
      },
      "source": [
        "# Regular expression rules for simple tokens\n",
        "t_PLUS    = r'\\+'\n",
        "t_MINUS   = r'-'\n",
        "t_TIMES   = r'\\*'\n",
        "t_DIVIDE  = r'/'\n",
        "t_LPAREN  = r'\\('\n",
        "t_RPAREN  = r'\\)'"
      ],
      "execution_count": null,
      "outputs": []
    },
    {
      "cell_type": "code",
      "metadata": {
        "id": "7qIg4E9yGUxo"
      },
      "source": [
        "# A regular expression rule with some action code\n",
        "def t_NUMBER(t):\n",
        "    r'\\d+'\n",
        "    t.value = int(t.value)    \n",
        "    return t\n",
        " \n",
        "# Define a rule so we can track line numbers\n",
        "def t_newline(t):\n",
        "    r'\\n+'\n",
        "    t.lexer.lineno += len(t.value)\n",
        " \n",
        "# A string containing ignored characters (spaces and tabs)\n",
        "t_ignore  = ' \\t'\n",
        " \n",
        "# Error handling rule\n",
        "def t_error(t):\n",
        "    print(\"Illegal character '%s'\" % t.value[0])\n",
        "    t.lexer.skip(1)\n",
        " \n",
        "# Build the lexer\n",
        "__file__ = \"compiladores.ipynb\"\n",
        "lexer = lex.lex()"
      ],
      "execution_count": null,
      "outputs": []
    },
    {
      "cell_type": "code",
      "metadata": {
        "id": "yK6-EH7aGUxx"
      },
      "source": [
        "data = '''\n",
        " 3 + 4 * 10\n",
        "   + -20 *2\n",
        " '''"
      ],
      "execution_count": null,
      "outputs": []
    },
    {
      "cell_type": "code",
      "metadata": {
        "id": "NjYdvtZ3GUx8"
      },
      "source": [
        "# Give the lexer some input\n",
        "lexer.input(data)"
      ],
      "execution_count": null,
      "outputs": []
    },
    {
      "cell_type": "code",
      "metadata": {
        "id": "YB-JDamnGUyD",
        "outputId": "341c7ee8-8db8-47ae-8872-cf6a261396ca"
      },
      "source": [
        "# Tokenize\n",
        "while True:\n",
        "    tok = lexer.token()\n",
        "    if not tok: \n",
        "        break      # No more input\n",
        "    print(tok.type, tok.value, tok.lineno, tok.lexpos)"
      ],
      "execution_count": null,
      "outputs": [
        {
          "output_type": "stream",
          "text": [
            "NUMBER 3 2 2\n",
            "PLUS + 2 4\n",
            "NUMBER 4 2 6\n",
            "TIMES * 2 8\n",
            "NUMBER 10 2 10\n",
            "PLUS + 3 16\n",
            "MINUS - 3 18\n",
            "NUMBER 20 3 19\n",
            "TIMES * 3 22\n",
            "NUMBER 2 3 23\n"
          ],
          "name": "stdout"
        }
      ]
    },
    {
      "cell_type": "code",
      "metadata": {
        "id": "QpAZwcIaGUya"
      },
      "source": [
        ""
      ],
      "execution_count": null,
      "outputs": []
    }
  ]
}