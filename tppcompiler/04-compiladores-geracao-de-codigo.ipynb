{
  "nbformat": 4,
  "nbformat_minor": 0,
  "metadata": {
    "kernelspec": {
      "display_name": "Python 3",
      "language": "python",
      "name": "python3"
    },
    "language_info": {
      "codemirror_mode": {
        "name": "ipython",
        "version": 3
      },
      "file_extension": ".py",
      "mimetype": "text/x-python",
      "name": "python",
      "nbconvert_exporter": "python",
      "pygments_lexer": "ipython3",
      "version": "3.7.6"
    },
    "colab": {
      "name": "04-compiladores-geracao-de-codigo.ipynb",
      "provenance": [],
      "include_colab_link": true
    }
  },
  "cells": [
    {
      "cell_type": "markdown",
      "metadata": {
        "id": "view-in-github",
        "colab_type": "text"
      },
      "source": [
        "<a href=\"https://colab.research.google.com/github/rogerioag/tutorial-de-compiladores/blob/master/tppcompiler/04-compiladores-geracao-de-codigo.ipynb\" target=\"_parent\"><img src=\"https://colab.research.google.com/assets/colab-badge.svg\" alt=\"Open In Colab\"/></a>"
      ]
    },
    {
      "cell_type": "markdown",
      "metadata": {
        "id": "vCFfKdzxGpZS"
      },
      "source": [
        "# **Implementação de Compiladores**\n",
        "## Geração de Código"
      ]
    },
    {
      "cell_type": "code",
      "metadata": {
        "id": "tFOSwil3mxtb",
        "outputId": "d1058cd6-a01d-4661-b342-54e313ae4cc4",
        "colab": {
          "base_uri": "https://localhost:8080/"
        }
      },
      "source": [
        "!pip install ply\n",
        "!pip install anytree"
      ],
      "execution_count": 1,
      "outputs": [
        {
          "output_type": "stream",
          "text": [
            "Collecting ply\n",
            "\u001b[?25l  Downloading https://files.pythonhosted.org/packages/a3/58/35da89ee790598a0700ea49b2a66594140f44dec458c07e8e3d4979137fc/ply-3.11-py2.py3-none-any.whl (49kB)\n",
            "\r\u001b[K     |██████▋                         | 10kB 4.6MB/s eta 0:00:01\r\u001b[K     |█████████████▏                  | 20kB 829kB/s eta 0:00:01\r\u001b[K     |███████████████████▉            | 30kB 1.1MB/s eta 0:00:01\r\u001b[K     |██████████████████████████▍     | 40kB 1.3MB/s eta 0:00:01\r\u001b[K     |████████████████████████████████| 51kB 825kB/s \n",
            "\u001b[?25hInstalling collected packages: ply\n",
            "Successfully installed ply-3.11\n",
            "Collecting anytree\n",
            "\u001b[?25l  Downloading https://files.pythonhosted.org/packages/a8/65/be23d8c3ecd68d40541d49812cd94ed0f3ee37eb88669ca15df0e43daed1/anytree-2.8.0-py2.py3-none-any.whl (41kB)\n",
            "\u001b[K     |████████████████████████████████| 51kB 908kB/s \n",
            "\u001b[?25hRequirement already satisfied: six>=1.9.0 in /usr/local/lib/python3.6/dist-packages (from anytree) (1.15.0)\n",
            "Installing collected packages: anytree\n",
            "Successfully installed anytree-2.8.0\n"
          ],
          "name": "stdout"
        }
      ]
    },
    {
      "cell_type": "code",
      "metadata": {
        "id": "xUmAD1gAGpZW"
      },
      "source": [
        "from llvmlite import ir\n",
        "from llvmlite import binding as llvm"
      ],
      "execution_count": 2,
      "outputs": []
    },
    {
      "cell_type": "code",
      "metadata": {
        "id": "Ps06Xtvbmkeo"
      },
      "source": [
        "llvm.initialize()\n",
        "llvm.initialize_all_targets()\n",
        "llvm.initialize_native_target()\n",
        "llvm.initialize_native_asmprinter()\n",
        "\n",
        "\n",
        "\n",
        "module.triple = llvm.get_process_triple()\n",
        "\n",
        "target = llvm.Target.from_triple(module.triple)\n",
        "target_machine = target.create_target_machine()\n",
        "\n",
        "module.data_layout = target_machine.target_data\n",
        "\n",
        "\n",
        "\n",
        "llvm.shutdown()"
      ],
      "execution_count": 5,
      "outputs": []
    },
    {
      "cell_type": "markdown",
      "metadata": {
        "id": "7os7sxlcmKU7"
      },
      "source": [
        "# Criação de um Módulo"
      ]
    },
    {
      "cell_type": "code",
      "metadata": {
        "id": "XEtv5Q-jmNiM",
        "outputId": "48e381f0-dd3c-4c1d-dacb-c88a8ff464ee",
        "colab": {
          "base_uri": "https://localhost:8080/"
        }
      },
      "source": [
        "from llvmlite import ir\n",
        "\n",
        "'''\n",
        "Este módulo contém uma função main e criação de um array unidimensional como variável global e outro como local.\n",
        "Será gerado um código em LLVM como este em C:\n",
        "<<Colocar o Código do Exemplo de Referência.>>\n",
        "'''\n",
        "\n",
        "# Cria o módulo.\n",
        "module = ir.Module('meu_modulo.bc')\n",
        "module.triple = llvm.get_process_triple()\n",
        "target = llvm.Target.from_triple(module.triple)\n",
        "target_machine = target.create_target_machine()\n",
        "module.data_layout = target_machine.target_data\n",
        "\n",
        "# Código do Módulo.\n",
        "\n",
        "# Salva o Módulo.\n",
        "arquivo = open('meu_modulo.ll', 'w')\n",
        "arquivo.write(str(module))\n",
        "arquivo.close()\n",
        "print(module)"
      ],
      "execution_count": 9,
      "outputs": [
        {
          "output_type": "stream",
          "text": [
            "; ModuleID = \"meu_modulo.bc\"\n",
            "target triple = \"x86_64-unknown-linux-gnu\"\n",
            "target datalayout = \"e-m:e-i64:64-f80:128-n8:16:32:64-S128\"\n",
            "\n"
          ],
          "name": "stdout"
        }
      ]
    },
    {
      "cell_type": "code",
      "metadata": {
        "id": "om_8TSWXGpZj",
        "outputId": "f7518a0a-ca20-45d9-af18-e703fd73daf3"
      },
      "source": [
        "'''\n",
        "Este módulo contém uma função main, declarações de variáveis, operações e atribuições\n",
        "Será gerado um código em LLVM como este em C:\n",
        "int g;\n",
        "float h;\n",
        "int main(){\n",
        "  int a = 1;\n",
        "  float b = 1.0;\n",
        "  \n",
        "  g = 10;\n",
        "  h = 10.0;\n",
        "  a = a + 10;\n",
        "  b = b + h;\n",
        "  \n",
        "  return 0;\n",
        "}\n",
        "'''"
      ],
      "execution_count": null,
      "outputs": [
        {
          "output_type": "execute_result",
          "data": {
            "text/plain": [
              "'\\nEste módulo contém uma função main, declarações de variáveis, operações e atribuições\\nSerá gerado um código em LLVM como este em C:\\nint g;\\nfloat h;\\nint main(){\\n  int a = 1;\\n  float b = 1.0;\\n  \\n  g = 10;\\n  h = 10.0;\\n  a = a + 10;\\n  b = b + h;\\n  \\n  return 0;\\n}\\n'"
            ]
          },
          "metadata": {
            "tags": []
          },
          "execution_count": 11
        }
      ]
    },
    {
      "cell_type": "code",
      "metadata": {
        "id": "XU1jaufmGpZz"
      },
      "source": [
        "# Cria o módulo.\n",
        "module = ir.Module('meu_modulo.bc')"
      ],
      "execution_count": null,
      "outputs": []
    },
    {
      "cell_type": "code",
      "metadata": {
        "id": "k_yN-abvGpZ8",
        "outputId": "695e6930-bcf6-4979-e0c3-ff9047986c62"
      },
      "source": [
        "# Variável inteira global g\n",
        "g = ir.GlobalVariable(module, ir.IntType(32),\"g\")\n",
        "# Inicializa a variavel g\n",
        "g.initializer = ir.Constant(ir.IntType(32), 0)\n",
        "# Linkage = common\n",
        "g.linkage = \"common\"\n",
        "# Define o alinhamento em 4\n",
        "g.align = 4\n",
        "\n",
        "# Variável float global h\n",
        "h = ir.GlobalVariable(module, ir.FloatType(),\"h\")\n",
        "# Inicializa a variavel h\n",
        "h.initializer =  ir.Constant(ir.FloatType(), 0.0)\n",
        "# Linkage = common\n",
        "h.linkage = \"common\"\n",
        "# Define o alinhamento em 4\n",
        "h.align = 4\n",
        "\n",
        "# Define o retorno da função main\n",
        "Zero32 = ir.Constant(ir.IntType(32), 0)\n",
        "# Cria função main\n",
        "t_func_main = ir.FunctionType(ir.IntType(32), ())\n",
        "# Declara função main\n",
        "main = ir.Function(module, t_func_main, name='main')\n",
        "\n",
        "# Declara o bloco de entrada\n",
        "entryBlock = main.append_basic_block('entry')\n",
        "endBasicBlock = main.append_basic_block('exit')\n",
        "\n",
        "# Adiciona o bloco de entrada\n",
        "builder = ir.IRBuilder(entryBlock)\n",
        "\n",
        "# Cria o valor de retorno e inicializa com zero\n",
        "returnVal = builder.alloca(ir.IntType(32), name='retorno')\n",
        "builder.store(Zero32, returnVal)\n",
        "\n",
        "# int a = 1;\n",
        "# float b = 1.0\n",
        "\n",
        "# Variável inteira 'a'\n",
        "# Aloca na memória variável a do tipo inteiro com nome 'a'\n",
        "a = builder.alloca(ir.IntType(32), name=\"a\")\n",
        "# Define o alinhamento\n",
        "a.align = 4\n",
        "# Cria uma constante pra armazenar o numero 1\n",
        "num1 = ir.Constant(ir.IntType(32),1)\n",
        "# Armazena o 1 na variave 'a'\n",
        "builder.store(num1, a)\n",
        "\n",
        "# Variavel float b\n",
        "# Aloca na memoria \n",
        "b = builder.alloca(ir.FloatType(), name=\"b\")\n",
        "# Define o alinhamento\n",
        "b.align = 4\n",
        "# Cria uma constante pra armazenar o numero 1\n",
        "num1Float = ir.Constant(ir.FloatType(), 1.0)\n",
        "# Armazena o 1.0 na variavel 'b'\n",
        "builder.store(num1Float, b)\n",
        "\n",
        "# g = 10\n",
        "# Outra maneira de fazer o store (sem precisar criar constante pra armazenar numero)\n",
        "builder.store( ir.Constant(ir.IntType(32), 10) , g )\n",
        "\n",
        "# h = 10.0\n",
        "builder.store( ir.Constant(ir.FloatType(), 10.0) , h )\n",
        "\n",
        "# a = a + 10\n",
        "a_temp = builder.load(a, \"\")\n",
        "num10 = ir.Constant(ir.IntType(32), 10)\n",
        "temp = builder.add(a_temp, num10, name='temp', flags=())\n",
        "# Armazena o temp (a + 10) no a\n",
        "builder.store(temp, a)\n",
        "\n",
        "# b = b + h\n",
        "b_temp = builder.load(b, \"\")\n",
        "h_temp = builder.load(h,\"\")\n",
        "temp2 = builder.fadd( b_temp , h_temp , name='temp2', flags=())\n",
        "# Armazena temp2 em b\n",
        "builder.store(temp2, b)\n",
        "\n",
        "# Cria um salto para o bloco de saída\n",
        "builder.branch(endBasicBlock)\n",
        "\n",
        "# Adiciona o bloco de saida\n",
        "builder.position_at_end(endBasicBlock)\n",
        "\n",
        "# return 0\n",
        "# Cria o return\n",
        "returnVal_temp = builder.load(returnVal, name='', align=4)\n",
        "builder.ret(returnVal_temp)"
      ],
      "execution_count": null,
      "outputs": [
        {
          "output_type": "execute_result",
          "data": {
            "text/plain": [
              "<ir.Ret '.14' of type 'void', opname 'ret', operands [<ir.LoadInstr '.13' of type 'i32', opname 'load', operands [<ir.AllocaInstr 'retorno' of type 'i32*', opname 'alloca', operands ()>]>]>"
            ]
          },
          "metadata": {
            "tags": []
          },
          "execution_count": 13
        }
      ]
    },
    {
      "cell_type": "code",
      "metadata": {
        "id": "2yeeE5O_GpaE",
        "outputId": "6b281bb8-9889-40e3-a903-945bbc74d735"
      },
      "source": [
        "arquivo = open('vars.ll', 'w')\n",
        "arquivo.write(str(module))\n",
        "arquivo.close()\n",
        "print(module)"
      ],
      "execution_count": null,
      "outputs": [
        {
          "output_type": "stream",
          "text": [
            "; ModuleID = \"meu_modulo.bc\"\n",
            "target triple = \"unknown-unknown-unknown\"\n",
            "target datalayout = \"\"\n",
            "\n",
            "@\"g\" = common global i32 0, align 4\n",
            "@\"h\" = common global float              0x0, align 4\n",
            "define i32 @\"main\"() \n",
            "{\n",
            "entry:\n",
            "  %\"retorno\" = alloca i32\n",
            "  store i32 0, i32* %\"retorno\"\n",
            "  %\"a\" = alloca i32, align 4\n",
            "  store i32 1, i32* %\"a\"\n",
            "  %\"b\" = alloca float, align 4\n",
            "  store float 0x3ff0000000000000, float* %\"b\"\n",
            "  store i32 10, i32* @\"g\"\n",
            "  store float 0x4024000000000000, float* @\"h\"\n",
            "  %\".7\" = load i32, i32* %\"a\"\n",
            "  %\"temp\" = add i32 %\".7\", 10\n",
            "  store i32 %\"temp\", i32* %\"a\"\n",
            "  %\".9\" = load float, float* %\"b\"\n",
            "  %\".10\" = load float, float* @\"h\"\n",
            "  %\"temp2\" = fadd float %\".9\", %\".10\"\n",
            "  store float %\"temp2\", float* %\"b\"\n",
            "  br label %\"exit\"\n",
            "exit:\n",
            "  %\".13\" = load i32, i32* %\"retorno\", align 4\n",
            "  ret i32 %\".13\"\n",
            "}\n",
            "\n"
          ],
          "name": "stdout"
        }
      ]
    },
    {
      "cell_type": "code",
      "metadata": {
        "id": "bSDeS8OCGpaO",
        "outputId": "4933fffa-354b-40b3-a422-c643f6cca921"
      },
      "source": [
        "dot = llvm.get_function_cfg(main)\n",
        "llvm.view_dot_graph(dot)"
      ],
      "execution_count": null,
      "outputs": [
        {
          "output_type": "execute_result",
          "data": {
            "image/svg+xml": "<svg height=\"385pt\" viewBox=\"0.00 0.00 311.00 385.00\" width=\"311pt\" xmlns=\"http://www.w3.org/2000/svg\" xmlns:xlink=\"http://www.w3.org/1999/xlink\">\n<g class=\"graph\" id=\"graph0\" transform=\"scale(1 1) rotate(0) translate(4 381)\">\n<title>CFG for 'main' function</title>\n<polygon fill=\"#ffffff\" points=\"-4,4 -4,-381 307,-381 307,4 -4,4\" stroke=\"transparent\"/>\n<text fill=\"#000000\" font-family=\"Times,serif\" font-size=\"14.00\" text-anchor=\"middle\" x=\"151.5\" y=\"-7.8\">CFG for 'main' function</text>\n<!-- Node0x55fb837e4e90 -->\n<g class=\"node\" id=\"node1\">\n<title>Node0x55fb837e4e90</title>\n<polygon fill=\"none\" points=\"11,-113.5 11,-376.5 292,-376.5 292,-113.5 11,-113.5\" stroke=\"#000000\"/>\n<text fill=\"#000000\" font-family=\"Times,serif\" font-size=\"14.00\" text-anchor=\"start\" x=\"19\" y=\"-361.3\">entry:</text>\n<text fill=\"#000000\" font-family=\"Times,serif\" font-size=\"14.00\" text-anchor=\"start\" x=\"19\" y=\"-346.3\"> %retorno = alloca i32</text>\n<text fill=\"#000000\" font-family=\"Times,serif\" font-size=\"14.00\" text-anchor=\"start\" x=\"19\" y=\"-331.3\"> store i32 0, i32* %retorno</text>\n<text fill=\"#000000\" font-family=\"Times,serif\" font-size=\"14.00\" text-anchor=\"start\" x=\"19\" y=\"-316.3\"> %a = alloca i32, align 4</text>\n<text fill=\"#000000\" font-family=\"Times,serif\" font-size=\"14.00\" text-anchor=\"start\" x=\"19\" y=\"-301.3\"> store i32 1, i32* %a</text>\n<text fill=\"#000000\" font-family=\"Times,serif\" font-size=\"14.00\" text-anchor=\"start\" x=\"19\" y=\"-286.3\"> %b = alloca float, align 4</text>\n<text fill=\"#000000\" font-family=\"Times,serif\" font-size=\"14.00\" text-anchor=\"start\" x=\"19\" y=\"-271.3\"> store float 1.000000e+00, float* %b</text>\n<text fill=\"#000000\" font-family=\"Times,serif\" font-size=\"14.00\" text-anchor=\"start\" x=\"19\" y=\"-256.3\"> store i32 10, i32* @g</text>\n<text fill=\"#000000\" font-family=\"Times,serif\" font-size=\"14.00\" text-anchor=\"start\" x=\"19\" y=\"-241.3\"> store float 1.000000e+01, float* @h</text>\n<text fill=\"#000000\" font-family=\"Times,serif\" font-size=\"14.00\" text-anchor=\"start\" x=\"19\" y=\"-226.3\"> %.7 = load i32, i32* %a</text>\n<text fill=\"#000000\" font-family=\"Times,serif\" font-size=\"14.00\" text-anchor=\"start\" x=\"19\" y=\"-211.3\"> %temp = add i32 %.7, 10</text>\n<text fill=\"#000000\" font-family=\"Times,serif\" font-size=\"14.00\" text-anchor=\"start\" x=\"19\" y=\"-196.3\"> store i32 %temp, i32* %a</text>\n<text fill=\"#000000\" font-family=\"Times,serif\" font-size=\"14.00\" text-anchor=\"start\" x=\"19\" y=\"-181.3\"> %.9 = load float, float* %b</text>\n<text fill=\"#000000\" font-family=\"Times,serif\" font-size=\"14.00\" text-anchor=\"start\" x=\"19\" y=\"-166.3\"> %.10 = load float, float* @h</text>\n<text fill=\"#000000\" font-family=\"Times,serif\" font-size=\"14.00\" text-anchor=\"start\" x=\"19\" y=\"-151.3\"> %temp2 = fadd float %.9, %.10</text>\n<text fill=\"#000000\" font-family=\"Times,serif\" font-size=\"14.00\" text-anchor=\"start\" x=\"19\" y=\"-136.3\"> store float %temp2, float* %b</text>\n<text fill=\"#000000\" font-family=\"Times,serif\" font-size=\"14.00\" text-anchor=\"start\" x=\"19\" y=\"-121.3\"> br label %exit</text>\n</g>\n<!-- Node0x55fb837c0a00 -->\n<g class=\"node\" id=\"node2\">\n<title>Node0x55fb837c0a00</title>\n<polygon fill=\"none\" points=\"0,-23.5 0,-76.5 303,-76.5 303,-23.5 0,-23.5\" stroke=\"#000000\"/>\n<text fill=\"#000000\" font-family=\"Times,serif\" font-size=\"14.00\" text-anchor=\"start\" x=\"8\" y=\"-61.3\">exit: </text>\n<text fill=\"#000000\" font-family=\"Times,serif\" font-size=\"14.00\" text-anchor=\"start\" x=\"8\" y=\"-46.3\"> %.13 = load i32, i32* %retorno, align 4</text>\n<text fill=\"#000000\" font-family=\"Times,serif\" font-size=\"14.00\" text-anchor=\"start\" x=\"8\" y=\"-31.3\"> ret i32 %.13</text>\n</g>\n<!-- Node0x55fb837e4e90&#45;&gt;Node0x55fb837c0a00 -->\n<g class=\"edge\" id=\"edge1\">\n<title>Node0x55fb837e4e90-&gt;Node0x55fb837c0a00</title>\n<path d=\"M151.5,-113.3109C151.5,-103.7978 151.5,-94.7819 151.5,-86.6948\" fill=\"none\" stroke=\"#000000\"/>\n<polygon fill=\"#000000\" points=\"155.0001,-86.635 151.5,-76.635 148.0001,-86.635 155.0001,-86.635\" stroke=\"#000000\"/>\n</g>\n</g>\n</svg>",
            "text/plain": [
              "<IPython.core.display.SVG object>"
            ]
          },
          "metadata": {
            "tags": []
          },
          "execution_count": 16
        }
      ]
    },
    {
      "cell_type": "code",
      "metadata": {
        "id": "ilY8Q6leGpaV"
      },
      "source": [
        ""
      ],
      "execution_count": null,
      "outputs": []
    }
  ]
}